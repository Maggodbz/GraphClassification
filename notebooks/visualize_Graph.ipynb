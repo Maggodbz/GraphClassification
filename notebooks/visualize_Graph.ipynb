{
 "cells": [
  {
   "cell_type": "code",
   "execution_count": 34,
   "metadata": {},
   "outputs": [],
   "source": [
    "import pandas as pd\n",
    "from graphviz import Digraph\n",
    "\n",
    "def plot_mind_map_graphviz_fixed(map_id, data):\n",
    "    # Filter data for the given map_id\n",
    "    filtered_data = data[data['map_id'] == map_id]\n",
    "    \n",
    "    # Create a directed graph using Graphviz\n",
    "    dot = Digraph(comment=f\"Mind Map for map_id: {map_id}\")\n",
    "    \n",
    "    # Add nodes\n",
    "    for index, row in filtered_data.iterrows():\n",
    "        dot.node(str(int(row['idea_id'])), row['idea_title'])\n",
    "    \n",
    "    # Add edges\n",
    "    for index, row in filtered_data.iterrows():\n",
    "        if not pd.isna(row['idea_parent_id']):\n",
    "            dot.edge(str(int(row['idea_parent_id'])), str(int(row['idea_id'])))\n",
    "    \n",
    "    # Render and view the graph\n",
    "    dot.view()\n",
    "\n",
    "# Usage:\n",
    "data = pd.read_csv(\"../data/raw/public_maps.csv\")\n",
    "plot_mind_map_graphviz_fixed(728945, data)\n"
   ]
  }
 ],
 "metadata": {
  "kernelspec": {
   "display_name": "base",
   "language": "python",
   "name": "python3"
  },
  "language_info": {
   "codemirror_mode": {
    "name": "ipython",
    "version": 3
   },
   "file_extension": ".py",
   "mimetype": "text/x-python",
   "name": "python",
   "nbconvert_exporter": "python",
   "pygments_lexer": "ipython3",
   "version": "3.10.11"
  },
  "orig_nbformat": 4
 },
 "nbformat": 4,
 "nbformat_minor": 2
}
