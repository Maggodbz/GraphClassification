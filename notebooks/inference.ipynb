{
 "cells": [
  {
   "cell_type": "code",
   "execution_count": 1,
   "metadata": {},
   "outputs": [
    {
     "name": "stdout",
     "output_type": "stream",
     "text": [
      "['Other' 'Business' 'Education' 'Education' 'Technology' 'Education'\n",
      " 'Education' 'Business' 'Technology' 'Education']\n"
     ]
    }
   ],
   "source": [
    "import pandas as pd\n",
    "import pickle\n",
    "from sklearn.feature_extraction.text import TfidfVectorizer\n",
    "from src.data_utils import preprocess_text\n",
    "import json\n",
    "\n",
    "# Load the model\n",
    "model = pickle.load(open('../models/logistic_regression_model.pkl', 'rb')) \n",
    "\n",
    "# Load the TfidfVectorizer\n",
    "vectorizer =  pickle.load(open('../models/vectorizer.pkl', 'rb')) \n",
    "label_encoder = pickle.load(open('../models/encoder.pkl', 'rb'))\n",
    "\n",
    "# load test data from json file and convert to pandas dataframe\n",
    "test_data = pd.DataFrame(json.load(open('../data/raw/test.json', 'r')))\n",
    "\n",
    "\n",
    "# Preprocess the test data\n",
    "test_data['map_title_processed'] = test_data['map_title'].apply(preprocess_text)\n",
    "test_data['idea_title_processed'] = test_data['idea_title'].apply(preprocess_text)\n",
    "\n",
    "# Concatenate map_title_processed and idea_title_processed\n",
    "test_data['text_processed'] = test_data['map_title_processed'] + ' ' + test_data['idea_title_processed']\n",
    "\n",
    "# Transform the test data using the TfidfVectorizer\n",
    "test_tfidf_matrix = vectorizer.transform(test_data['text_processed'])\n",
    "\n",
    "# Make predictions\n",
    "test_preds = model.predict(test_tfidf_matrix)\n",
    "\n",
    "# decode the predictions using the label encoder\n",
    "test_preds_decoded = label_encoder.inverse_transform(test_preds)\n",
    "print(test_preds_decoded)\n"
   ]
  }
 ],
 "metadata": {
  "kernelspec": {
   "display_name": ".venv",
   "language": "python",
   "name": "python3"
  },
  "language_info": {
   "codemirror_mode": {
    "name": "ipython",
    "version": 3
   },
   "file_extension": ".py",
   "mimetype": "text/x-python",
   "name": "python",
   "nbconvert_exporter": "python",
   "pygments_lexer": "ipython3",
   "version": "3.10.11"
  },
  "orig_nbformat": 4
 },
 "nbformat": 4,
 "nbformat_minor": 2
}
