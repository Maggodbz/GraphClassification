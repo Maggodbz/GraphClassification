{
 "cells": [
  {
   "cell_type": "code",
   "execution_count": 3,
   "metadata": {},
   "outputs": [
    {
     "name": "stdout",
     "output_type": "stream",
     "text": [
      "{'predictions': 'Business'}\n"
     ]
    }
   ],
   "source": [
    "import pandas as pd\n",
    "import pickle\n",
    "from src.data_utils import preprocess_text\n",
    "import json\n",
    "\n",
    "# Load the model, TfidfVectorizer, and LabelEncoder\n",
    "model = pickle.load(open('../models/logistic_regression_model.pkl', 'rb'))\n",
    "vectorizer =  pickle.load(open('../models/vectorizer.pkl', 'rb'))\n",
    "label_encoder = pickle.load(open('../models/encoder.pkl', 'rb'))\n",
    "\n",
    "# Load test data from json file and convert to pandas dataframe\n",
    "test_data = pd.DataFrame(json.load(open('../data/raw/test.json', 'r')))\n",
    "\n",
    "# Handle missing values and duplicates in the test data\n",
    "test_data.dropna(inplace=True)\n",
    "test_data.drop_duplicates(inplace=True)\n",
    "\n",
    "# Apply the preprocess_text function to idea titles in the test data\n",
    "test_data['idea_title_processed'] = test_data['idea_title'].apply(preprocess_text)\n",
    "\n",
    "# Group by map_id to aggregate idea titles\n",
    "grouped_test = test_data.groupby('map_id').agg({\n",
    "    'idea_title_processed': ' '.join,\n",
    "    'map_title': 'first'\n",
    "}).reset_index()\n",
    "\n",
    "# Concatenate map_title and aggregated idea_title_processed\n",
    "grouped_test['text_processed'] = grouped_test['map_title'] + ' ' + grouped_test['idea_title_processed']\n",
    "\n",
    "# Transform the concatenated text using the loaded TfidfVectorizer\n",
    "test_tfidf_matrix = vectorizer.transform(grouped_test['text_processed'])\n",
    "\n",
    "# Make predictions using the loaded model\n",
    "test_preds = model.predict(test_tfidf_matrix)\n",
    "\n",
    "# Decode the predictions using the loaded LabelEncoder\n",
    "test_preds_decoded = label_encoder.inverse_transform(test_preds)\n",
    "print({\n",
    "    'predictions': test_preds_decoded.tolist()[0],\n",
    "})\n"
   ]
  }
 ],
 "metadata": {
  "kernelspec": {
   "display_name": ".venv",
   "language": "python",
   "name": "python3"
  },
  "language_info": {
   "codemirror_mode": {
    "name": "ipython",
    "version": 3
   },
   "file_extension": ".py",
   "mimetype": "text/x-python",
   "name": "python",
   "nbconvert_exporter": "python",
   "pygments_lexer": "ipython3",
   "version": "3.10.11"
  },
  "orig_nbformat": 4
 },
 "nbformat": 4,
 "nbformat_minor": 2
}
