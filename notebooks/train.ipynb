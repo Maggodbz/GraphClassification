{
 "cells": [
  {
   "cell_type": "code",
   "execution_count": 12,
   "metadata": {},
   "outputs": [
    {
     "name": "stdout",
     "output_type": "stream",
     "text": [
      "<class 'numpy.ndarray'> <class 'numpy.ndarray'>\n",
      "(13560, 13941) (13560,)\n"
     ]
    }
   ],
   "source": [
    "from sklearn.model_selection import train_test_split\n",
    "from sklearn.linear_model import LogisticRegression\n",
    "from sklearn.metrics import accuracy_score\n",
    "from scipy.sparse import csr_matrix, hstack\n",
    "import pickle\n",
    "import numpy as np\n",
    "\n",
    "data_encoded = pickle.load(open('../data/processed/data_encoded.pkl', 'rb'))\n",
    "\n",
    "# Convert the target variable to a numpy array\n",
    "tfidf_matrix = np.array(data_encoded['tfidf_matrix'].to_list())\n",
    "target = data_encoded['map_category_encoded'].to_numpy()\n",
    "print(type(tfidf_matrix), type(target))\n",
    "print(tfidf_matrix.shape, target.shape)\n",
    "# Split the data into a training set and a test set\n",
    "X_train, X_test, y_train, y_test = train_test_split(tfidf_matrix, target, test_size=0.2, random_state=42)\n",
    "\n",
    "# Initialize the LogisticRegression\n",
    "model = LogisticRegression(max_iter=1000)\n",
    "\n",
    "# Fit the model on the training data\n",
    "model.fit(X_train, y_train)\n",
    "\n",
    "# Predict the categories of the training data\n",
    "train_preds = model.predict(X_train)\n",
    "\n",
    "# Calculate the training accuracy\n",
    "train_accuracy = accuracy_score(y_train, train_preds)\n",
    "\n",
    "# Predict the categories of the test data\n",
    "test_preds = model.predict(X_test)\n",
    "\n",
    "# save the model to disk\n",
    "filename = \"../models/logistic_regression_model.pkl\"\n",
    "pickle.dump(model, open(filename, 'wb'))\n"
   ]
  }
 ],
 "metadata": {
  "kernelspec": {
   "display_name": ".venv",
   "language": "python",
   "name": "python3"
  },
  "language_info": {
   "codemirror_mode": {
    "name": "ipython",
    "version": 3
   },
   "file_extension": ".py",
   "mimetype": "text/x-python",
   "name": "python",
   "nbconvert_exporter": "python",
   "pygments_lexer": "ipython3",
   "version": "3.10.11"
  },
  "orig_nbformat": 4
 },
 "nbformat": 4,
 "nbformat_minor": 2
}
