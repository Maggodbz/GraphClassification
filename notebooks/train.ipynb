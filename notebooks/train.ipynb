{
 "cells": [
  {
   "cell_type": "code",
   "execution_count": 1,
   "metadata": {},
   "outputs": [
    {
     "name": "stdout",
     "output_type": "stream",
     "text": [
      "\n",
      "Training logistic_regression...\n",
      "\n",
      "Training Metrics:\n",
      "Accuracy: 0.93\n",
      "Precision: 0.93\n",
      "Recall: 0.93\n",
      "F1-Score: 0.92\n",
      "AUC-ROC: 0.99\n",
      "AUC-PR: 0.97\n",
      "\n",
      "Test Metrics:\n",
      "Accuracy: 0.84\n",
      "Precision: 0.86\n",
      "Recall: 0.84\n",
      "F1-Score: 0.84\n",
      "AUC-ROC: 0.97\n",
      "AUC-PR: 0.88\n",
      "\n",
      "Training decision_tree...\n",
      "\n",
      "Training Metrics:\n",
      "Accuracy: 1.00\n",
      "Precision: 1.00\n",
      "Recall: 1.00\n",
      "F1-Score: 1.00\n",
      "AUC-ROC: 1.00\n",
      "AUC-PR: 1.00\n",
      "\n",
      "Test Metrics:\n",
      "Accuracy: 0.77\n",
      "Precision: 0.79\n",
      "Recall: 0.77\n",
      "F1-Score: 0.78\n",
      "AUC-ROC: 0.87\n",
      "AUC-PR: 0.68\n",
      "\n",
      "Training random_forest...\n",
      "\n",
      "Training Metrics:\n",
      "Accuracy: 1.00\n",
      "Precision: 1.00\n",
      "Recall: 1.00\n",
      "F1-Score: 1.00\n",
      "AUC-ROC: 1.00\n",
      "AUC-PR: 1.00\n",
      "\n",
      "Test Metrics:\n",
      "Accuracy: 0.79\n",
      "Precision: 0.84\n",
      "Recall: 0.79\n",
      "F1-Score: 0.80\n",
      "AUC-ROC: 0.96\n",
      "AUC-PR: 0.83\n",
      "\n",
      "Training svc...\n",
      "\n"
     ]
    }
   ],
   "source": [
    "\n",
    "from src.models.models import ModelFactory\n",
    "\n",
    "model_types = [\n",
    "    \"logistic_regression\",\n",
    "    \"decision_tree\",\n",
    "    \"random_forest\",\n",
    "    \"svc\",\n",
    "    \"knn\",\n",
    "    \"naive_bayes\",\n",
    "]\n",
    "\n",
    "for model_type in model_types:\n",
    "    print(f\"\\nTraining {model_type}...\\n\")\n",
    "    trainer = ModelFactory.get_model_trainer(model_type, '../data/processed/data_processed.pkl')\n",
    "    trainer.run()\n",
    "    trainer.save_model(f\"../models/{model_type}_model.pkl\")\n"
   ]
  }
 ],
 "metadata": {
  "kernelspec": {
   "display_name": ".venv",
   "language": "python",
   "name": "python3"
  },
  "language_info": {
   "codemirror_mode": {
    "name": "ipython",
    "version": 3
   },
   "file_extension": ".py",
   "mimetype": "text/x-python",
   "name": "python",
   "nbconvert_exporter": "python",
   "pygments_lexer": "ipython3",
   "version": "3.10.11"
  },
  "orig_nbformat": 4
 },
 "nbformat": 4,
 "nbformat_minor": 2
}
