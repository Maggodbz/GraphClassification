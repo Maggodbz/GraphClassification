{
 "cells": [
  {
   "cell_type": "code",
   "execution_count": 12,
   "metadata": {},
   "outputs": [
    {
     "name": "stdout",
     "output_type": "stream",
     "text": [
      "Missing values:\n",
      " map_id                 0\n",
      "map_title              0\n",
      "map_rating             0\n",
      "map_category_name      0\n",
      "idea_id                0\n",
      "idea_parent_id       462\n",
      "idea_title             0\n",
      "dtype: int64\n",
      "\n",
      "Number of duplicate rows:  0\n"
     ]
    }
   ],
   "source": [
    "import pandas as pd\n",
    "import re\n",
    "from sklearn.feature_extraction.text import TfidfVectorizer\n",
    "from sklearn.preprocessing import LabelEncoder\n",
    "import pickle\n",
    "from src.data_utils import preprocess_text\n",
    "\n",
    "# Load the dataset\n",
    "data_path = \"../data/raw/public_maps.csv\"  # Replace with the path to your file\n",
    "data = pd.read_csv(data_path)\n",
    "\n",
    "# Check for missing values\n",
    "missing_values = data.isnull().sum()\n",
    "print(\"Missing values:\\n\", missing_values)\n",
    "\n",
    "# Check for duplicate entries\n",
    "duplicate_rows = data.duplicated().sum()\n",
    "print(\"\\nNumber of duplicate rows: \", duplicate_rows)\n",
    "\n",
    "\n",
    "\n",
    "# Apply the preprocess_text function to map_title and idea_title\n",
    "data['map_title_processed'] = data['map_title'].apply(preprocess_text)\n",
    "data['idea_title_processed'] = data['idea_title'].apply(preprocess_text)\n",
    "\n",
    "# Concatenate map_title_processed and idea_title_processed\n",
    "data['text_processed'] = data['map_title_processed'] + ' ' + data['idea_title_processed']\n",
    "\n",
    "# Initialize the TfidfVectorizer\n",
    "vectorizer = TfidfVectorizer()\n",
    "\n",
    "# Fit and transform the vectorizer on our corpus\n",
    "tfidf_matrix = vectorizer.fit_transform(data['text_processed'])\n",
    "\n",
    "# Initialize the LabelEncoder\n",
    "encoder = LabelEncoder()\n",
    "\n",
    "# Fit and transform the encoder on map_category_name\n",
    "map_category_encoded = encoder.fit_transform(data['map_category_name'])\n",
    "\n",
    "# Create a new dataframe for the encoded data\n",
    "data_encoded = pd.DataFrame({\n",
    "    'tfidf_matrix': list(tfidf_matrix.toarray()),\n",
    "    'map_category_encoded': map_category_encoded\n",
    "})\n",
    "\n",
    "# Save the vectorizer and encoder objects\n",
    "pickle.dump(vectorizer, open('../models/vectorizer.pkl', 'wb'))\n",
    "pickle.dump(encoder, open('../models/encoder.pkl', 'wb'))\n",
    "\n",
    "# Save the encoded data\n",
    "data_encoded.to_pickle('../data/processed/data_encoded.pkl')\n"
   ]
  }
 ],
 "metadata": {
  "kernelspec": {
   "display_name": ".venv",
   "language": "python",
   "name": "python3"
  },
  "language_info": {
   "codemirror_mode": {
    "name": "ipython",
    "version": 3
   },
   "file_extension": ".py",
   "mimetype": "text/x-python",
   "name": "python",
   "nbconvert_exporter": "python",
   "pygments_lexer": "ipython3",
   "version": "3.10.11"
  },
  "orig_nbformat": 4
 },
 "nbformat": 4,
 "nbformat_minor": 2
}
