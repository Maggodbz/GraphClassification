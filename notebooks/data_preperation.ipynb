{
 "cells": [
  {
   "cell_type": "code",
   "execution_count": 6,
   "metadata": {},
   "outputs": [],
   "source": [
    "import pandas as pd\n",
    "from sklearn.feature_extraction.text import TfidfVectorizer\n",
    "from sklearn.preprocessing import LabelEncoder\n",
    "from imblearn.over_sampling import SMOTE\n",
    "import pickle\n",
    "from src.data_utils import preprocess_text\n",
    "\n",
    "\n",
    "# Load the dataset\n",
    "data_path = \"../data/raw/public_maps.csv\"\n",
    "data = pd.read_csv(data_path)\n",
    "\n",
    "# Handle missing values and duplicates\n",
    "data.dropna(inplace=True)\n",
    "data.drop_duplicates(inplace=True)\n",
    "\n",
    "# Apply the preprocess_text function\n",
    "data['idea_title_processed'] = data['idea_title'].apply(preprocess_text)\n",
    "\n",
    "# Group by map_id to aggregate idea titles\n",
    "grouped = data.groupby('map_id').agg({\n",
    "    'idea_title_processed': ' '.join,\n",
    "    'map_title': 'first',\n",
    "    'map_category_name': 'first',\n",
    "    'map_rating': 'first'\n",
    "}).reset_index()\n",
    "\n",
    "\n",
    "# Concatenate map_title and aggregated idea_title_processed\n",
    "grouped['text_processed'] = grouped['map_title'] + ' ' + grouped['idea_title_processed']\n",
    "\n",
    "# Initialize the TfidfVectorizer and LabelEncoder\n",
    "vectorizer = TfidfVectorizer()\n",
    "encoder = LabelEncoder()\n",
    "\n",
    "tfidf_matrix = vectorizer.fit_transform(grouped['text_processed'])\n",
    "map_category_encoded = encoder.fit_transform(grouped['map_category_name'])\n",
    "\n",
    "# Determine the smallest class count to set k_neighbors\n",
    "min_class_count = min(pd.Series(map_category_encoded).value_counts())\n",
    "\n",
    "# Address class imbalance using SMOTE\n",
    "smote = SMOTE(k_neighbors=min(min_class_count - 1, 5))  # Use 5 or min_class_count-1, whichever is smaller\n",
    "tfidf_matrix_resampled, map_category_encoded_resampled = smote.fit_resample(tfidf_matrix, map_category_encoded)\n",
    "\n",
    "data_processed = pd.DataFrame(tfidf_matrix_resampled.toarray())\n",
    "data_processed['map_category_encoded'] = map_category_encoded_resampled\n",
    "\n",
    "# Save the processed data\n",
    "data_processed.to_pickle('../data/processed/data_processed.pkl')\n",
    "pickle.dump(vectorizer, open('../models/vectorizer.pkl', 'wb'))\n",
    "pickle.dump(encoder, open('../models/encoder.pkl', 'wb'))\n"
   ]
  }
 ],
 "metadata": {
  "kernelspec": {
   "display_name": ".venv",
   "language": "python",
   "name": "python3"
  },
  "language_info": {
   "codemirror_mode": {
    "name": "ipython",
    "version": 3
   },
   "file_extension": ".py",
   "mimetype": "text/x-python",
   "name": "python",
   "nbconvert_exporter": "python",
   "pygments_lexer": "ipython3",
   "version": "3.10.11"
  },
  "orig_nbformat": 4
 },
 "nbformat": 4,
 "nbformat_minor": 2
}
